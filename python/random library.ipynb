{
 "cells": [
  {
   "cell_type": "code",
   "execution_count": 3,
   "id": "f162696d",
   "metadata": {},
   "outputs": [
    {
     "name": "stdout",
     "output_type": "stream",
     "text": [
      "Hello world\n"
     ]
    }
   ],
   "source": [
    "print(\"Hello world\")"
   ]
  },
  {
   "cell_type": "code",
   "execution_count": 4,
   "id": "02b1fc61",
   "metadata": {},
   "outputs": [
    {
     "data": {
      "text/plain": [
       "60"
      ]
     },
     "execution_count": 4,
     "metadata": {},
     "output_type": "execute_result"
    }
   ],
   "source": [
    "a = 50\n",
    "b = 10\n",
    "\n",
    "a + b"
   ]
  },
  {
   "cell_type": "markdown",
   "id": "d2c74894",
   "metadata": {},
   "source": [
    "To get documentation in the notebook: Shift + Tab\n",
    "\n",
    "To run a cell: Shift + Enter"
   ]
  },
  {
   "cell_type": "markdown",
   "id": "75b84911",
   "metadata": {},
   "source": [
    "# Using Libraries"
   ]
  },
  {
   "cell_type": "markdown",
   "id": "b271127c",
   "metadata": {},
   "source": [
    "1. Using library name\n",
    "2. Using an alias\n",
    "3. Using only few functions or classes"
   ]
  },
  {
   "cell_type": "markdown",
   "id": "5af432a9",
   "metadata": {},
   "source": [
    "## Using Library Name"
   ]
  },
  {
   "cell_type": "code",
   "execution_count": 5,
   "id": "4eca10dc",
   "metadata": {},
   "outputs": [],
   "source": [
    "import random"
   ]
  },
  {
   "cell_type": "code",
   "execution_count": 11,
   "id": "1f8f96fe",
   "metadata": {},
   "outputs": [
    {
     "data": {
      "text/plain": [
       "0.6425125753942225"
      ]
     },
     "execution_count": 11,
     "metadata": {},
     "output_type": "execute_result"
    }
   ],
   "source": [
    "random.random()"
   ]
  },
  {
   "cell_type": "code",
   "execution_count": 15,
   "id": "9c52f96d",
   "metadata": {},
   "outputs": [
    {
     "data": {
      "text/plain": [
       "8.07926507825935"
      ]
     },
     "execution_count": 15,
     "metadata": {},
     "output_type": "execute_result"
    }
   ],
   "source": [
    "random.uniform(1, 10)"
   ]
  },
  {
   "cell_type": "markdown",
   "id": "5805743d",
   "metadata": {},
   "source": [
    "## Using an Alias"
   ]
  },
  {
   "cell_type": "code",
   "execution_count": 16,
   "id": "d779be9a",
   "metadata": {},
   "outputs": [],
   "source": [
    "import random as r"
   ]
  },
  {
   "cell_type": "code",
   "execution_count": 23,
   "id": "efd99edb",
   "metadata": {},
   "outputs": [
    {
     "data": {
      "text/plain": [
       "16"
      ]
     },
     "execution_count": 23,
     "metadata": {},
     "output_type": "execute_result"
    }
   ],
   "source": [
    "r.randint(1, 100)"
   ]
  },
  {
   "cell_type": "code",
   "execution_count": 24,
   "id": "1ebff4a6",
   "metadata": {},
   "outputs": [
    {
     "data": {
      "text/plain": [
       "0.37560796857991363"
      ]
     },
     "execution_count": 24,
     "metadata": {},
     "output_type": "execute_result"
    }
   ],
   "source": [
    "r.random()"
   ]
  },
  {
   "cell_type": "markdown",
   "id": "7ba89516",
   "metadata": {},
   "source": [
    "## Importing Only Specific Functions"
   ]
  },
  {
   "cell_type": "code",
   "execution_count": 25,
   "id": "46c2f9df",
   "metadata": {},
   "outputs": [],
   "source": [
    "from random import random, choice"
   ]
  },
  {
   "cell_type": "code",
   "execution_count": 26,
   "id": "dc76e7c6",
   "metadata": {},
   "outputs": [
    {
     "data": {
      "text/plain": [
       "0.3744558195647859"
      ]
     },
     "execution_count": 26,
     "metadata": {},
     "output_type": "execute_result"
    }
   ],
   "source": [
    "random()"
   ]
  },
  {
   "cell_type": "code",
   "execution_count": 32,
   "id": "d3fe61f2",
   "metadata": {},
   "outputs": [
    {
     "data": {
      "text/plain": [
       "2"
      ]
     },
     "execution_count": 32,
     "metadata": {},
     "output_type": "execute_result"
    }
   ],
   "source": [
    "myList = [1, 2, 3, \"Hello\", \"XYZ\"]\n",
    "choice(myList)"
   ]
  },
  {
   "cell_type": "markdown",
   "id": "fb7345bf",
   "metadata": {},
   "source": [
    "# Time Library"
   ]
  },
  {
   "cell_type": "code",
   "execution_count": 33,
   "id": "7b0067ec",
   "metadata": {},
   "outputs": [],
   "source": [
    "import time as t"
   ]
  },
  {
   "cell_type": "code",
   "execution_count": 35,
   "id": "ef5ef690",
   "metadata": {},
   "outputs": [
    {
     "data": {
      "text/plain": [
       "1628233867.395929"
      ]
     },
     "execution_count": 35,
     "metadata": {},
     "output_type": "execute_result"
    }
   ],
   "source": [
    "t.time()"
   ]
  },
  {
   "cell_type": "code",
   "execution_count": 36,
   "id": "b7c692ff",
   "metadata": {},
   "outputs": [
    {
     "data": {
      "text/plain": [
       "time.struct_time(tm_year=1970, tm_mon=1, tm_mday=1, tm_hour=0, tm_min=0, tm_sec=0, tm_wday=3, tm_yday=1, tm_isdst=0)"
      ]
     },
     "execution_count": 36,
     "metadata": {},
     "output_type": "execute_result"
    }
   ],
   "source": [
    "t.gmtime(0)"
   ]
  },
  {
   "cell_type": "code",
   "execution_count": 37,
   "id": "3351e314",
   "metadata": {},
   "outputs": [
    {
     "data": {
      "text/plain": [
       "time.struct_time(tm_year=1970, tm_mon=1, tm_mday=1, tm_hour=5, tm_min=30, tm_sec=0, tm_wday=3, tm_yday=1, tm_isdst=0)"
      ]
     },
     "execution_count": 37,
     "metadata": {},
     "output_type": "execute_result"
    }
   ],
   "source": [
    "t.localtime(0)"
   ]
  },
  {
   "cell_type": "code",
   "execution_count": 38,
   "id": "a12a6838",
   "metadata": {},
   "outputs": [
    {
     "data": {
      "text/plain": [
       "'Thu Jan  1 05:30:00 1970'"
      ]
     },
     "execution_count": 38,
     "metadata": {},
     "output_type": "execute_result"
    }
   ],
   "source": [
    "t.ctime(0)"
   ]
  },
  {
   "cell_type": "code",
   "execution_count": 39,
   "id": "81c36c7b",
   "metadata": {},
   "outputs": [
    {
     "data": {
      "text/plain": [
       "'Fri Aug  6 12:46:30 2021'"
      ]
     },
     "execution_count": 39,
     "metadata": {},
     "output_type": "execute_result"
    }
   ],
   "source": [
    "t.ctime(t.time())"
   ]
  },
  {
   "cell_type": "code",
   "execution_count": 40,
   "id": "8dbe02bb",
   "metadata": {},
   "outputs": [],
   "source": [
    "from time import localtime as l"
   ]
  },
  {
   "cell_type": "code",
   "execution_count": 41,
   "id": "348440d0",
   "metadata": {},
   "outputs": [
    {
     "data": {
      "text/plain": [
       "time.struct_time(tm_year=2021, tm_mon=8, tm_mday=6, tm_hour=12, tm_min=54, tm_sec=31, tm_wday=4, tm_yday=218, tm_isdst=0)"
      ]
     },
     "execution_count": 41,
     "metadata": {},
     "output_type": "execute_result"
    }
   ],
   "source": [
    "l()"
   ]
  },
  {
   "cell_type": "code",
   "execution_count": null,
   "id": "7e30f5d6",
   "metadata": {},
   "outputs": [],
   "source": []
  }
 ],
 "metadata": {
  "kernelspec": {
   "display_name": "Python 3",
   "language": "python",
   "name": "python3"
  },
  "language_info": {
   "codemirror_mode": {
    "name": "ipython",
    "version": 3
   },
   "file_extension": ".py",
   "mimetype": "text/x-python",
   "name": "python",
   "nbconvert_exporter": "python",
   "pygments_lexer": "ipython3",
   "version": "3.8.8"
  }
 },
 "nbformat": 4,
 "nbformat_minor": 5
}
