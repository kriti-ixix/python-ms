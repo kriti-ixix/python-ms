{
 "cells": [
  {
   "cell_type": "code",
   "execution_count": 1,
   "id": "fed6c2ff",
   "metadata": {},
   "outputs": [],
   "source": [
    "import numpy as np\n",
    "import pandas as pd\n",
    "import matplotlib.pyplot as plt\n",
    "import seaborn as sns"
   ]
  },
  {
   "cell_type": "code",
   "execution_count": 2,
   "id": "649f9625",
   "metadata": {},
   "outputs": [],
   "source": [
    "df = pd.read_csv('diabetes.csv')"
   ]
  },
  {
   "cell_type": "code",
   "execution_count": 3,
   "id": "7a4fbefb",
   "metadata": {},
   "outputs": [
    {
     "data": {
      "text/html": [
       "<div>\n",
       "<style scoped>\n",
       "    .dataframe tbody tr th:only-of-type {\n",
       "        vertical-align: middle;\n",
       "    }\n",
       "\n",
       "    .dataframe tbody tr th {\n",
       "        vertical-align: top;\n",
       "    }\n",
       "\n",
       "    .dataframe thead th {\n",
       "        text-align: right;\n",
       "    }\n",
       "</style>\n",
       "<table border=\"1\" class=\"dataframe\">\n",
       "  <thead>\n",
       "    <tr style=\"text-align: right;\">\n",
       "      <th></th>\n",
       "      <th>Pregnancies</th>\n",
       "      <th>Glucose</th>\n",
       "      <th>BloodPressure</th>\n",
       "      <th>SkinThickness</th>\n",
       "      <th>Insulin</th>\n",
       "      <th>BMI</th>\n",
       "      <th>DiabetesPedigreeFunction</th>\n",
       "      <th>Age</th>\n",
       "      <th>Outcome</th>\n",
       "    </tr>\n",
       "  </thead>\n",
       "  <tbody>\n",
       "    <tr>\n",
       "      <th>0</th>\n",
       "      <td>6</td>\n",
       "      <td>148</td>\n",
       "      <td>72</td>\n",
       "      <td>35</td>\n",
       "      <td>0</td>\n",
       "      <td>33.6</td>\n",
       "      <td>0.627</td>\n",
       "      <td>50</td>\n",
       "      <td>1</td>\n",
       "    </tr>\n",
       "    <tr>\n",
       "      <th>1</th>\n",
       "      <td>1</td>\n",
       "      <td>85</td>\n",
       "      <td>66</td>\n",
       "      <td>29</td>\n",
       "      <td>0</td>\n",
       "      <td>26.6</td>\n",
       "      <td>0.351</td>\n",
       "      <td>31</td>\n",
       "      <td>0</td>\n",
       "    </tr>\n",
       "    <tr>\n",
       "      <th>2</th>\n",
       "      <td>8</td>\n",
       "      <td>183</td>\n",
       "      <td>64</td>\n",
       "      <td>0</td>\n",
       "      <td>0</td>\n",
       "      <td>23.3</td>\n",
       "      <td>0.672</td>\n",
       "      <td>32</td>\n",
       "      <td>1</td>\n",
       "    </tr>\n",
       "    <tr>\n",
       "      <th>3</th>\n",
       "      <td>1</td>\n",
       "      <td>89</td>\n",
       "      <td>66</td>\n",
       "      <td>23</td>\n",
       "      <td>94</td>\n",
       "      <td>28.1</td>\n",
       "      <td>0.167</td>\n",
       "      <td>21</td>\n",
       "      <td>0</td>\n",
       "    </tr>\n",
       "    <tr>\n",
       "      <th>4</th>\n",
       "      <td>0</td>\n",
       "      <td>137</td>\n",
       "      <td>40</td>\n",
       "      <td>35</td>\n",
       "      <td>168</td>\n",
       "      <td>43.1</td>\n",
       "      <td>2.288</td>\n",
       "      <td>33</td>\n",
       "      <td>1</td>\n",
       "    </tr>\n",
       "  </tbody>\n",
       "</table>\n",
       "</div>"
      ],
      "text/plain": [
       "   Pregnancies  Glucose  BloodPressure  SkinThickness  Insulin   BMI  \\\n",
       "0            6      148             72             35        0  33.6   \n",
       "1            1       85             66             29        0  26.6   \n",
       "2            8      183             64              0        0  23.3   \n",
       "3            1       89             66             23       94  28.1   \n",
       "4            0      137             40             35      168  43.1   \n",
       "\n",
       "   DiabetesPedigreeFunction  Age  Outcome  \n",
       "0                     0.627   50        1  \n",
       "1                     0.351   31        0  \n",
       "2                     0.672   32        1  \n",
       "3                     0.167   21        0  \n",
       "4                     2.288   33        1  "
      ]
     },
     "execution_count": 3,
     "metadata": {},
     "output_type": "execute_result"
    }
   ],
   "source": [
    "df.head()"
   ]
  },
  {
   "cell_type": "code",
   "execution_count": 4,
   "id": "1d7befdd",
   "metadata": {},
   "outputs": [
    {
     "name": "stdout",
     "output_type": "stream",
     "text": [
      "<class 'pandas.core.frame.DataFrame'>\n",
      "RangeIndex: 768 entries, 0 to 767\n",
      "Data columns (total 9 columns):\n",
      " #   Column                    Non-Null Count  Dtype  \n",
      "---  ------                    --------------  -----  \n",
      " 0   Pregnancies               768 non-null    int64  \n",
      " 1   Glucose                   768 non-null    int64  \n",
      " 2   BloodPressure             768 non-null    int64  \n",
      " 3   SkinThickness             768 non-null    int64  \n",
      " 4   Insulin                   768 non-null    int64  \n",
      " 5   BMI                       768 non-null    float64\n",
      " 6   DiabetesPedigreeFunction  768 non-null    float64\n",
      " 7   Age                       768 non-null    int64  \n",
      " 8   Outcome                   768 non-null    int64  \n",
      "dtypes: float64(2), int64(7)\n",
      "memory usage: 54.1 KB\n"
     ]
    }
   ],
   "source": [
    "df.info()"
   ]
  },
  {
   "cell_type": "code",
   "execution_count": 5,
   "id": "2beb5542",
   "metadata": {},
   "outputs": [
    {
     "data": {
      "text/plain": [
       "Pregnancies                 111\n",
       "Glucose                       5\n",
       "BloodPressure                35\n",
       "SkinThickness               227\n",
       "Insulin                     374\n",
       "BMI                          11\n",
       "DiabetesPedigreeFunction      0\n",
       "Age                           0\n",
       "Outcome                     500\n",
       "dtype: int64"
      ]
     },
     "execution_count": 5,
     "metadata": {},
     "output_type": "execute_result"
    }
   ],
   "source": [
    "df.eq(0).sum()"
   ]
  },
  {
   "cell_type": "code",
   "execution_count": 6,
   "id": "b4900d28",
   "metadata": {},
   "outputs": [
    {
     "data": {
      "text/plain": [
       "Index(['Pregnancies', 'Glucose', 'BloodPressure', 'SkinThickness', 'Insulin',\n",
       "       'BMI', 'DiabetesPedigreeFunction', 'Age', 'Outcome'],\n",
       "      dtype='object')"
      ]
     },
     "execution_count": 6,
     "metadata": {},
     "output_type": "execute_result"
    }
   ],
   "source": [
    "df.columns"
   ]
  },
  {
   "cell_type": "code",
   "execution_count": 7,
   "id": "aa61576e",
   "metadata": {},
   "outputs": [],
   "source": [
    "df[['Glucose', 'BloodPressure', 'SkinThickness', 'Insulin', 'BMI']] = df[['Glucose', \n",
    "        'BloodPressure', 'SkinThickness', 'Insulin', 'BMI']].replace(0, np.nan)"
   ]
  },
  {
   "cell_type": "code",
   "execution_count": 8,
   "id": "9fca2739",
   "metadata": {},
   "outputs": [
    {
     "data": {
      "text/plain": [
       "<AxesSubplot:>"
      ]
     },
     "execution_count": 8,
     "metadata": {},
     "output_type": "execute_result"
    },
    {
     "data": {
      "image/png": "[encoded data removed]",
      "text/plain": [
       "<Figure size 432x288 with 2 Axes>"
      ]
     },
     "metadata": {
      "needs_background": "light"
     },
     "output_type": "display_data"
    }
   ],
   "source": [
    "sns.heatmap(df.isnull())"
   ]
  },
  {
   "cell_type": "code",
   "execution_count": 9,
   "id": "82099cf9",
   "metadata": {},
   "outputs": [],
   "source": [
    "df.fillna(df.mean(), inplace=True)"
   ]
  },
  {
   "cell_type": "code",
   "execution_count": 10,
   "id": "17bcc6ca",
   "metadata": {},
   "outputs": [
    {
     "data": {
      "text/plain": [
       "<AxesSubplot:>"
      ]
     },
     "execution_count": 10,
     "metadata": {},
     "output_type": "execute_result"
    },
    {
     "data": {
      "image/png": "[encoded data removed]",
      "text/plain": [
       "<Figure size 432x288 with 2 Axes>"
      ]
     },
     "metadata": {
      "needs_background": "light"
     },
     "output_type": "display_data"
    }
   ],
   "source": [
    "sns.heatmap(df.isnull())"
   ]
  },
  {
   "cell_type": "code",
   "execution_count": 11,
   "id": "6faa28e8",
   "metadata": {},
   "outputs": [
    {
     "data": {
      "text/html": [
       "<div>\n",
       "<style scoped>\n",
       "    .dataframe tbody tr th:only-of-type {\n",
       "        vertical-align: middle;\n",
       "    }\n",
       "\n",
       "    .dataframe tbody tr th {\n",
       "        vertical-align: top;\n",
       "    }\n",
       "\n",
       "    .dataframe thead th {\n",
       "        text-align: right;\n",
       "    }\n",
       "</style>\n",
       "<table border=\"1\" class=\"dataframe\">\n",
       "  <thead>\n",
       "    <tr style=\"text-align: right;\">\n",
       "      <th></th>\n",
       "      <th>Pregnancies</th>\n",
       "      <th>Glucose</th>\n",
       "      <th>BloodPressure</th>\n",
       "      <th>SkinThickness</th>\n",
       "      <th>Insulin</th>\n",
       "      <th>BMI</th>\n",
       "      <th>DiabetesPedigreeFunction</th>\n",
       "      <th>Age</th>\n",
       "      <th>Outcome</th>\n",
       "    </tr>\n",
       "  </thead>\n",
       "  <tbody>\n",
       "    <tr>\n",
       "      <th>0</th>\n",
       "      <td>6</td>\n",
       "      <td>148.0</td>\n",
       "      <td>72.0</td>\n",
       "      <td>35.00000</td>\n",
       "      <td>155.548223</td>\n",
       "      <td>33.6</td>\n",
       "      <td>0.627</td>\n",
       "      <td>50</td>\n",
       "      <td>1</td>\n",
       "    </tr>\n",
       "    <tr>\n",
       "      <th>1</th>\n",
       "      <td>1</td>\n",
       "      <td>85.0</td>\n",
       "      <td>66.0</td>\n",
       "      <td>29.00000</td>\n",
       "      <td>155.548223</td>\n",
       "      <td>26.6</td>\n",
       "      <td>0.351</td>\n",
       "      <td>31</td>\n",
       "      <td>0</td>\n",
       "    </tr>\n",
       "    <tr>\n",
       "      <th>2</th>\n",
       "      <td>8</td>\n",
       "      <td>183.0</td>\n",
       "      <td>64.0</td>\n",
       "      <td>29.15342</td>\n",
       "      <td>155.548223</td>\n",
       "      <td>23.3</td>\n",
       "      <td>0.672</td>\n",
       "      <td>32</td>\n",
       "      <td>1</td>\n",
       "    </tr>\n",
       "    <tr>\n",
       "      <th>3</th>\n",
       "      <td>1</td>\n",
       "      <td>89.0</td>\n",
       "      <td>66.0</td>\n",
       "      <td>23.00000</td>\n",
       "      <td>94.000000</td>\n",
       "      <td>28.1</td>\n",
       "      <td>0.167</td>\n",
       "      <td>21</td>\n",
       "      <td>0</td>\n",
       "    </tr>\n",
       "    <tr>\n",
       "      <th>4</th>\n",
       "      <td>0</td>\n",
       "      <td>137.0</td>\n",
       "      <td>40.0</td>\n",
       "      <td>35.00000</td>\n",
       "      <td>168.000000</td>\n",
       "      <td>43.1</td>\n",
       "      <td>2.288</td>\n",
       "      <td>33</td>\n",
       "      <td>1</td>\n",
       "    </tr>\n",
       "  </tbody>\n",
       "</table>\n",
       "</div>"
      ],
      "text/plain": [
       "   Pregnancies  Glucose  BloodPressure  SkinThickness     Insulin   BMI  \\\n",
       "0            6    148.0           72.0       35.00000  155.548223  33.6   \n",
       "1            1     85.0           66.0       29.00000  155.548223  26.6   \n",
       "2            8    183.0           64.0       29.15342  155.548223  23.3   \n",
       "3            1     89.0           66.0       23.00000   94.000000  28.1   \n",
       "4            0    137.0           40.0       35.00000  168.000000  43.1   \n",
       "\n",
       "   DiabetesPedigreeFunction  Age  Outcome  \n",
       "0                     0.627   50        1  \n",
       "1                     0.351   31        0  \n",
       "2                     0.672   32        1  \n",
       "3                     0.167   21        0  \n",
       "4                     2.288   33        1  "
      ]
     },
     "execution_count": 11,
     "metadata": {},
     "output_type": "execute_result"
    }
   ],
   "source": [
    "df.head()"
   ]
  },
  {
   "cell_type": "code",
   "execution_count": 12,
   "id": "c192557e",
   "metadata": {},
   "outputs": [
    {
     "data": {
      "text/html": [
       "<div>\n",
       "<style scoped>\n",
       "    .dataframe tbody tr th:only-of-type {\n",
       "        vertical-align: middle;\n",
       "    }\n",
       "\n",
       "    .dataframe tbody tr th {\n",
       "        vertical-align: top;\n",
       "    }\n",
       "\n",
       "    .dataframe thead th {\n",
       "        text-align: right;\n",
       "    }\n",
       "</style>\n",
       "<table border=\"1\" class=\"dataframe\">\n",
       "  <thead>\n",
       "    <tr style=\"text-align: right;\">\n",
       "      <th></th>\n",
       "      <th>Pregnancies</th>\n",
       "      <th>Glucose</th>\n",
       "      <th>BloodPressure</th>\n",
       "      <th>SkinThickness</th>\n",
       "      <th>Insulin</th>\n",
       "      <th>BMI</th>\n",
       "      <th>DiabetesPedigreeFunction</th>\n",
       "      <th>Age</th>\n",
       "      <th>Outcome</th>\n",
       "    </tr>\n",
       "  </thead>\n",
       "  <tbody>\n",
       "    <tr>\n",
       "      <th>Pregnancies</th>\n",
       "      <td>1.000000</td>\n",
       "      <td>0.127911</td>\n",
       "      <td>0.208522</td>\n",
       "      <td>0.082989</td>\n",
       "      <td>0.056027</td>\n",
       "      <td>0.021565</td>\n",
       "      <td>-0.033523</td>\n",
       "      <td>0.544341</td>\n",
       "      <td>0.221898</td>\n",
       "    </tr>\n",
       "    <tr>\n",
       "      <th>Glucose</th>\n",
       "      <td>0.127911</td>\n",
       "      <td>1.000000</td>\n",
       "      <td>0.218367</td>\n",
       "      <td>0.192991</td>\n",
       "      <td>0.420157</td>\n",
       "      <td>0.230941</td>\n",
       "      <td>0.137060</td>\n",
       "      <td>0.266534</td>\n",
       "      <td>0.492928</td>\n",
       "    </tr>\n",
       "    <tr>\n",
       "      <th>BloodPressure</th>\n",
       "      <td>0.208522</td>\n",
       "      <td>0.218367</td>\n",
       "      <td>1.000000</td>\n",
       "      <td>0.192816</td>\n",
       "      <td>0.072517</td>\n",
       "      <td>0.281268</td>\n",
       "      <td>-0.002763</td>\n",
       "      <td>0.324595</td>\n",
       "      <td>0.166074</td>\n",
       "    </tr>\n",
       "    <tr>\n",
       "      <th>SkinThickness</th>\n",
       "      <td>0.082989</td>\n",
       "      <td>0.192991</td>\n",
       "      <td>0.192816</td>\n",
       "      <td>1.000000</td>\n",
       "      <td>0.158139</td>\n",
       "      <td>0.542398</td>\n",
       "      <td>0.100966</td>\n",
       "      <td>0.127872</td>\n",
       "      <td>0.215299</td>\n",
       "    </tr>\n",
       "    <tr>\n",
       "      <th>Insulin</th>\n",
       "      <td>0.056027</td>\n",
       "      <td>0.420157</td>\n",
       "      <td>0.072517</td>\n",
       "      <td>0.158139</td>\n",
       "      <td>1.000000</td>\n",
       "      <td>0.166586</td>\n",
       "      <td>0.098634</td>\n",
       "      <td>0.136734</td>\n",
       "      <td>0.214411</td>\n",
       "    </tr>\n",
       "    <tr>\n",
       "      <th>BMI</th>\n",
       "      <td>0.021565</td>\n",
       "      <td>0.230941</td>\n",
       "      <td>0.281268</td>\n",
       "      <td>0.542398</td>\n",
       "      <td>0.166586</td>\n",
       "      <td>1.000000</td>\n",
       "      <td>0.153400</td>\n",
       "      <td>0.025519</td>\n",
       "      <td>0.311924</td>\n",
       "    </tr>\n",
       "    <tr>\n",
       "      <th>DiabetesPedigreeFunction</th>\n",
       "      <td>-0.033523</td>\n",
       "      <td>0.137060</td>\n",
       "      <td>-0.002763</td>\n",
       "      <td>0.100966</td>\n",
       "      <td>0.098634</td>\n",
       "      <td>0.153400</td>\n",
       "      <td>1.000000</td>\n",
       "      <td>0.033561</td>\n",
       "      <td>0.173844</td>\n",
       "    </tr>\n",
       "    <tr>\n",
       "      <th>Age</th>\n",
       "      <td>0.544341</td>\n",
       "      <td>0.266534</td>\n",
       "      <td>0.324595</td>\n",
       "      <td>0.127872</td>\n",
       "      <td>0.136734</td>\n",
       "      <td>0.025519</td>\n",
       "      <td>0.033561</td>\n",
       "      <td>1.000000</td>\n",
       "      <td>0.238356</td>\n",
       "    </tr>\n",
       "    <tr>\n",
       "      <th>Outcome</th>\n",
       "      <td>0.221898</td>\n",
       "      <td>0.492928</td>\n",
       "      <td>0.166074</td>\n",
       "      <td>0.215299</td>\n",
       "      <td>0.214411</td>\n",
       "      <td>0.311924</td>\n",
       "      <td>0.173844</td>\n",
       "      <td>0.238356</td>\n",
       "      <td>1.000000</td>\n",
       "    </tr>\n",
       "  </tbody>\n",
       "</table>\n",
       "</div>"
      ],
      "text/plain": [
       "                          Pregnancies   Glucose  BloodPressure  SkinThickness  \\\n",
       "Pregnancies                  1.000000  0.127911       0.208522       0.082989   \n",
       "Glucose                      0.127911  1.000000       0.218367       0.192991   \n",
       "BloodPressure                0.208522  0.218367       1.000000       0.192816   \n",
       "SkinThickness                0.082989  0.192991       0.192816       1.000000   \n",
       "Insulin                      0.056027  0.420157       0.072517       0.158139   \n",
       "BMI                          0.021565  0.230941       0.281268       0.542398   \n",
       "DiabetesPedigreeFunction    -0.033523  0.137060      -0.002763       0.100966   \n",
       "Age                          0.544341  0.266534       0.324595       0.127872   \n",
       "Outcome                      0.221898  0.492928       0.166074       0.215299   \n",
       "\n",
       "                           Insulin       BMI  DiabetesPedigreeFunction  \\\n",
       "Pregnancies               0.056027  0.021565                 -0.033523   \n",
       "Glucose                   0.420157  0.230941                  0.137060   \n",
       "BloodPressure             0.072517  0.281268                 -0.002763   \n",
       "SkinThickness             0.158139  0.542398                  0.100966   \n",
       "Insulin                   1.000000  0.166586                  0.098634   \n",
       "BMI                       0.166586  1.000000                  0.153400   \n",
       "DiabetesPedigreeFunction  0.098634  0.153400                  1.000000   \n",
       "Age                       0.136734  0.025519                  0.033561   \n",
       "Outcome                   0.214411  0.311924                  0.173844   \n",
       "\n",
       "                               Age   Outcome  \n",
       "Pregnancies               0.544341  0.221898  \n",
       "Glucose                   0.266534  0.492928  \n",
       "BloodPressure             0.324595  0.166074  \n",
       "SkinThickness             0.127872  0.215299  \n",
       "Insulin                   0.136734  0.214411  \n",
       "BMI                       0.025519  0.311924  \n",
       "DiabetesPedigreeFunction  0.033561  0.173844  \n",
       "Age                       1.000000  0.238356  \n",
       "Outcome                   0.238356  1.000000  "
      ]
     },
     "execution_count": 12,
     "metadata": {},
     "output_type": "execute_result"
    }
   ],
   "source": [
    "df.corr()"
   ]
  },
  {
   "cell_type": "code",
   "execution_count": 13,
   "id": "2a95ad6d",
   "metadata": {},
   "outputs": [
    {
     "data": {
      "text/plain": [
       "<AxesSubplot:>"
      ]
     },
     "execution_count": 13,
     "metadata": {},
     "output_type": "execute_result"
    },
    {
     "data": {
      "image/png": "[encoded data removed]",
      "text/plain": [
       "<Figure size 864x720 with 2 Axes>"
      ]
     },
     "metadata": {
      "needs_background": "light"
     },
     "output_type": "display_data"
    }
   ],
   "source": [
    "plt.figure(figsize=(12,10))\n",
    "sns.heatmap(df.corr(),annot=True)"
   ]
  },
  {
   "cell_type": "code",
   "execution_count": 14,
   "id": "86b95ca9",
   "metadata": {},
   "outputs": [],
   "source": [
    "X = df[['Glucose', 'BMI', 'Age']]\n",
    "y = df['Outcome']"
   ]
  },
  {
   "cell_type": "code",
   "execution_count": 15,
   "id": "aa2080a3",
   "metadata": {},
   "outputs": [],
   "source": [
    "from sklearn.model_selection import train_test_split"
   ]
  },
  {
   "cell_type": "code",
   "execution_count": 16,
   "id": "e8f8116a",
   "metadata": {},
   "outputs": [],
   "source": [
    "X_train, X_test, y_train, y_test = train_test_split(X, y, test_size=0.33, random_state=101)"
   ]
  },
  {
   "cell_type": "code",
   "execution_count": 17,
   "id": "df1cf726",
   "metadata": {},
   "outputs": [],
   "source": [
    "from sklearn.neighbors import KNeighborsClassifier"
   ]
  },
  {
   "cell_type": "code",
   "execution_count": 18,
   "id": "e88a4049",
   "metadata": {},
   "outputs": [],
   "source": [
    "testKnn = KNeighborsClassifier(n_neighbors=7)"
   ]
  },
  {
   "cell_type": "code",
   "execution_count": 19,
   "id": "23e267a6",
   "metadata": {},
   "outputs": [],
   "source": [
    "from sklearn.model_selection import cross_val_score"
   ]
  },
  {
   "cell_type": "code",
   "execution_count": 20,
   "id": "4c28525b",
   "metadata": {},
   "outputs": [
    {
     "data": {
      "text/plain": [
       "array([0.76623377, 0.7012987 , 0.74025974, 0.81699346, 0.73856209])"
      ]
     },
     "execution_count": 20,
     "metadata": {},
     "output_type": "execute_result"
    }
   ],
   "source": [
    "cross_val_score(testKnn, X, y, cv=5, scoring='accuracy')"
   ]
  },
  {
   "cell_type": "code",
   "execution_count": 21,
   "id": "44c5978e",
   "metadata": {},
   "outputs": [
    {
     "data": {
      "text/plain": [
       "(768, 9)"
      ]
     },
     "execution_count": 21,
     "metadata": {},
     "output_type": "execute_result"
    }
   ],
   "source": [
    "df.shape"
   ]
  },
  {
   "cell_type": "code",
   "execution_count": 22,
   "id": "876aeba9",
   "metadata": {},
   "outputs": [
    {
     "data": {
      "text/plain": [
       "153.6"
      ]
     },
     "execution_count": 22,
     "metadata": {},
     "output_type": "execute_result"
    }
   ],
   "source": [
    "768/5"
   ]
  },
  {
   "cell_type": "code",
   "execution_count": 23,
   "id": "3c3e18a6",
   "metadata": {},
   "outputs": [
    {
     "data": {
      "text/plain": [
       "614.4"
      ]
     },
     "execution_count": 23,
     "metadata": {},
     "output_type": "execute_result"
    }
   ],
   "source": [
    "153.6*4"
   ]
  },
  {
   "cell_type": "code",
   "execution_count": 24,
   "id": "cb695986",
   "metadata": {},
   "outputs": [],
   "source": [
    "ks = list(range(1, 600, 2))"
   ]
  },
  {
   "cell_type": "code",
   "execution_count": 25,
   "id": "bb9092d7",
   "metadata": {},
   "outputs": [],
   "source": [
    "cvScores = []"
   ]
  },
  {
   "cell_type": "code",
   "execution_count": 26,
   "id": "be75465b",
   "metadata": {},
   "outputs": [],
   "source": [
    "for k in ks:\n",
    "    knn = KNeighborsClassifier(n_neighbors=k)\n",
    "    score = cross_val_score(knn, X, y, cv=5, scoring='accuracy').mean()\n",
    "    cvScores.append(score)"
   ]
  },
  {
   "cell_type": "code",
   "execution_count": 27,
   "id": "71e9990b",
   "metadata": {
    "scrolled": true
   },
   "outputs": [
    {
     "data": {
      "text/plain": [
       "[0.6784059078176725,\n",
       " 0.71883541295306,\n",
       " 0.7396400984636278,\n",
       " 0.7526695526695526,\n",
       " 0.7565486800780918,\n",
       " 0.7604872251931075,\n",
       " 0.7565571683218743,\n",
       " 0.7630846277905101,\n",
       " 0.7630761395467278,\n",
       " 0.7708768355827178,\n",
       " 0.7682964094728799,\n",
       " 0.7643918173329938,\n",
       " 0.7617774382480265,\n",
       " 0.7644003055767762,\n",
       " 0.7669977081741788,\n",
       " 0.7617859264918089,\n",
       " 0.7656735421441304,\n",
       " 0.7604787369493252,\n",
       " 0.7605042016806722,\n",
       " 0.7644003055767762,\n",
       " 0.7644172820643409,\n",
       " 0.756574144809439,\n",
       " 0.7578983108394872,\n",
       " 0.7565911212970036,\n",
       " 0.7552924199983023,\n",
       " 0.7592224768695356,\n",
       " 0.755309396485867,\n",
       " 0.7579152873270519,\n",
       " 0.7618113912231559,\n",
       " 0.7566080977845683,\n",
       " 0.752703505644682,\n",
       " 0.756599609540786,\n",
       " 0.756599609540786,\n",
       " 0.7605042016806722,\n",
       " 0.7578983108394872,\n",
       " 0.7552924199983023,\n",
       " 0.7592055003819709,\n",
       " 0.7578898225957049,\n",
       " 0.7591970121381886,\n",
       " 0.753993718699601,\n",
       " 0.7474747474747476,\n",
       " 0.7539852304558187,\n",
       " 0.7487819370172311,\n",
       " 0.752678040913335,\n",
       " 0.7500806383159324,\n",
       " 0.7526950174008997,\n",
       " 0.7513878278584161,\n",
       " 0.7487904252610134,\n",
       " 0.7487989135047959,\n",
       " 0.750097614803497,\n",
       " 0.752703505644682,\n",
       " 0.7540106951871657,\n",
       " 0.7513963161021984,\n",
       " 0.7513878278584161,\n",
       " 0.7513963161021984,\n",
       " 0.7526950174008997,\n",
       " 0.755309396485867,\n",
       " 0.752703505644682,\n",
       " 0.7566165860283507,\n",
       " 0.7605126899244545,\n",
       " 0.7605042016806722,\n",
       " 0.7592055003819709,\n",
       " 0.7578983108394872,\n",
       " 0.7565911212970036,\n",
       " 0.75007215007215,\n",
       " 0.7448773448773448,\n",
       " 0.746176046176046,\n",
       " 0.7474917239623122,\n",
       " 0.7501061030472795,\n",
       " 0.7474747474747474,\n",
       " 0.75007215007215,\n",
       " 0.7540022069433834,\n",
       " 0.7553009082420846,\n",
       " 0.7579067990832696,\n",
       " 0.7579067990832696,\n",
       " 0.7553009082420846,\n",
       " 0.7540022069433834,\n",
       " 0.7540022069433834,\n",
       " 0.7553009082420846,\n",
       " 0.756599609540786,\n",
       " 0.753993718699601,\n",
       " 0.7513878278584161,\n",
       " 0.7513878278584161,\n",
       " 0.75007215007215,\n",
       " 0.7474832357185297,\n",
       " 0.746176046176046,\n",
       " 0.7461845344198285,\n",
       " 0.7487819370172311,\n",
       " 0.750097614803497,\n",
       " 0.7500891265597147,\n",
       " 0.7513878278584161,\n",
       " 0.7500806383159324,\n",
       " 0.7461845344198286,\n",
       " 0.746176046176046,\n",
       " 0.7474747474747474,\n",
       " 0.7487734487734488,\n",
       " 0.7448688566335624,\n",
       " 0.746176046176046,\n",
       " 0.7474747474747474,\n",
       " 0.7474577709871827,\n",
       " 0.7448603683897801,\n",
       " 0.7500551735845853,\n",
       " 0.7500636618283677,\n",
       " 0.748756472285884,\n",
       " 0.7474577709871827,\n",
       " 0.7500636618283677,\n",
       " 0.7461590696884814,\n",
       " 0.7461675579322637,\n",
       " 0.7487649605296663,\n",
       " 0.7487649605296663,\n",
       " 0.7539597657244715,\n",
       " 0.7513623631270689,\n",
       " 0.7500636618283677,\n",
       " 0.7500636618283677,\n",
       " 0.7526695526695526,\n",
       " 0.7526610644257702,\n",
       " 0.7539597657244715,\n",
       " 0.7539597657244715,\n",
       " 0.7539597657244715,\n",
       " 0.7500636618283677,\n",
       " 0.7513623631270689,\n",
       " 0.7500551735845853,\n",
       " 0.7513623631270689,\n",
       " 0.75007215007215,\n",
       " 0.7500636618283677,\n",
       " 0.748756472285884,\n",
       " 0.7474492827434004,\n",
       " 0.746150581444699,\n",
       " 0.7474492827434004,\n",
       " 0.7500551735845853,\n",
       " 0.7500551735845853,\n",
       " 0.752652576181988,\n",
       " 0.752652576181988,\n",
       " 0.7539512774806892,\n",
       " 0.7526440879382056,\n",
       " 0.750046685340803,\n",
       " 0.750046685340803,\n",
       " 0.750046685340803,\n",
       " 0.750046685340803,\n",
       " 0.750046685340803,\n",
       " 0.7487479840421016,\n",
       " 0.750046685340803,\n",
       " 0.7500381970970207,\n",
       " 0.7500381970970207,\n",
       " 0.7500381970970207,\n",
       " 0.7500381970970207,\n",
       " 0.7487394957983193,\n",
       " 0.7500381970970207,\n",
       " 0.7474238180120534,\n",
       " 0.7487225193107546,\n",
       " 0.750021220609456,\n",
       " 0.7500127323656736,\n",
       " 0.7500042441218912,\n",
       " 0.7473983532807063,\n",
       " 0.7447924624395214,\n",
       " 0.7447924624395214,\n",
       " 0.7474068415244887,\n",
       " 0.746099651982005,\n",
       " 0.7474068415244887,\n",
       " 0.746099651982005,\n",
       " 0.7448009506833037,\n",
       " 0.7435022493846024,\n",
       " 0.7435022493846024,\n",
       " 0.7448094389270861,\n",
       " 0.7460996519820049,\n",
       " 0.7487055428231899,\n",
       " 0.7474068415244886,\n",
       " 0.7421950598421188,\n",
       " 0.7421950598421188,\n",
       " 0.7408878702996351,\n",
       " 0.7434937611408199,\n",
       " 0.7487140310669722,\n",
       " 0.7460996519820049,\n",
       " 0.7448009506833035,\n",
       " 0.7357015533486122,\n",
       " 0.7357015533486122,\n",
       " 0.7291656056361939,\n",
       " 0.7226466344113402,\n",
       " 0.7174178762414056,\n",
       " 0.7030642560054325,\n",
       " 0.7004583651642475,\n",
       " 0.7004498769204652,\n",
       " 0.6965452847805789,\n",
       " 0.6926576691282573,\n",
       " 0.6887615652321534,\n",
       " 0.6796451914098972,\n",
       " 0.6731347084288261,\n",
       " 0.6666412019353196,\n",
       " 0.6601392071980307,\n",
       " 0.6536457007045242,\n",
       " 0.6510482981071216,\n",
       " 0.6523469994058229,\n",
       " 0.6523469994058229,\n",
       " 0.6523469994058229,\n",
       " 0.6523469994058229,\n",
       " 0.6523469994058229,\n",
       " 0.6510482981071216,\n",
       " 0.6510482981071216,\n",
       " 0.6510482981071216,\n",
       " 0.6510482981071216,\n",
       " 0.6510482981071216,\n",
       " 0.6510482981071216,\n",
       " 0.6510482981071216,\n",
       " 0.6510482981071216,\n",
       " 0.6510482981071216,\n",
       " 0.6510482981071216,\n",
       " 0.6510482981071216,\n",
       " 0.6510482981071216,\n",
       " 0.6510482981071216,\n",
       " 0.6510482981071216,\n",
       " 0.6510482981071216,\n",
       " 0.6510482981071216,\n",
       " 0.6510482981071216,\n",
       " 0.6510482981071216,\n",
       " 0.6510482981071216,\n",
       " 0.6510482981071216,\n",
       " 0.6510482981071216,\n",
       " 0.6510482981071216,\n",
       " 0.6510482981071216,\n",
       " 0.6510482981071216,\n",
       " 0.6510482981071216,\n",
       " 0.6510482981071216,\n",
       " 0.6510482981071216,\n",
       " 0.6510482981071216,\n",
       " 0.6510482981071216,\n",
       " 0.6510482981071216,\n",
       " 0.6510482981071216,\n",
       " 0.6510482981071216,\n",
       " 0.6510482981071216,\n",
       " 0.6510482981071216,\n",
       " 0.6510482981071216,\n",
       " 0.6510482981071216,\n",
       " 0.6510482981071216,\n",
       " 0.6510482981071216,\n",
       " 0.6510482981071216,\n",
       " 0.6510482981071216,\n",
       " 0.6510482981071216,\n",
       " 0.6510482981071216,\n",
       " 0.6510482981071216,\n",
       " 0.6510482981071216,\n",
       " 0.6510482981071216,\n",
       " 0.6510482981071216,\n",
       " 0.6510482981071216,\n",
       " 0.6510482981071216,\n",
       " 0.6510482981071216,\n",
       " 0.6510482981071216,\n",
       " 0.6510482981071216,\n",
       " 0.6510482981071216,\n",
       " 0.6510482981071216,\n",
       " 0.6510482981071216,\n",
       " 0.6510482981071216,\n",
       " 0.6510482981071216,\n",
       " 0.6510482981071216,\n",
       " 0.6510482981071216,\n",
       " 0.6510482981071216,\n",
       " 0.6510482981071216,\n",
       " 0.6510482981071216,\n",
       " 0.6510482981071216,\n",
       " 0.6510482981071216,\n",
       " 0.6510482981071216,\n",
       " 0.6510482981071216,\n",
       " 0.6510482981071216,\n",
       " 0.6510482981071216,\n",
       " 0.6510482981071216,\n",
       " 0.6510482981071216,\n",
       " 0.6510482981071216,\n",
       " 0.6510482981071216,\n",
       " 0.6510482981071216,\n",
       " 0.6510482981071216,\n",
       " 0.6510482981071216,\n",
       " 0.6510482981071216,\n",
       " 0.6510482981071216,\n",
       " 0.6510482981071216,\n",
       " 0.6510482981071216,\n",
       " 0.6510482981071216,\n",
       " 0.6510482981071216,\n",
       " 0.6510482981071216,\n",
       " 0.6510482981071216,\n",
       " 0.6510482981071216,\n",
       " 0.6510482981071216,\n",
       " 0.6510482981071216,\n",
       " 0.6510482981071216,\n",
       " 0.6510482981071216,\n",
       " 0.6510482981071216,\n",
       " 0.6510482981071216,\n",
       " 0.6510482981071216,\n",
       " 0.6510482981071216,\n",
       " 0.6510482981071216,\n",
       " 0.6510482981071216,\n",
       " 0.6510482981071216,\n",
       " 0.6510482981071216,\n",
       " 0.6510482981071216,\n",
       " 0.6510482981071216,\n",
       " 0.6510482981071216,\n",
       " 0.6510482981071216,\n",
       " 0.6510482981071216,\n",
       " 0.6510482981071216,\n",
       " 0.6510482981071216,\n",
       " 0.6510482981071216,\n",
       " 0.6510482981071216]"
      ]
     },
     "execution_count": 27,
     "metadata": {},
     "output_type": "execute_result"
    }
   ],
   "source": [
    "cvScores"
   ]
  },
  {
   "cell_type": "code",
   "execution_count": 28,
   "id": "3da41c37",
   "metadata": {},
   "outputs": [
    {
     "data": {
      "text/plain": [
       "0.7708768355827178"
      ]
     },
     "execution_count": 28,
     "metadata": {},
     "output_type": "execute_result"
    }
   ],
   "source": [
    "max(cvScores)"
   ]
  },
  {
   "cell_type": "code",
   "execution_count": 29,
   "id": "f5c2f611",
   "metadata": {},
   "outputs": [
    {
     "data": {
      "text/plain": [
       "9"
      ]
     },
     "execution_count": 29,
     "metadata": {},
     "output_type": "execute_result"
    }
   ],
   "source": [
    "cvScores.index(max(cvScores))"
   ]
  },
  {
   "cell_type": "code",
   "execution_count": 30,
   "id": "451f1b2e",
   "metadata": {},
   "outputs": [
    {
     "data": {
      "text/plain": [
       "19"
      ]
     },
     "execution_count": 30,
     "metadata": {},
     "output_type": "execute_result"
    }
   ],
   "source": [
    "ks[9]"
   ]
  },
  {
   "cell_type": "code",
   "execution_count": 31,
   "id": "9affcde8",
   "metadata": {},
   "outputs": [],
   "source": [
    "finalKNN = KNeighborsClassifier(n_neighbors=19)"
   ]
  },
  {
   "cell_type": "code",
   "execution_count": 32,
   "id": "624d8f5e",
   "metadata": {},
   "outputs": [
    {
     "data": {
      "text/plain": [
       "KNeighborsClassifier(n_neighbors=19)"
      ]
     },
     "execution_count": 32,
     "metadata": {},
     "output_type": "execute_result"
    }
   ],
   "source": [
    "finalKNN.fit(X, y)"
   ]
  },
  {
   "cell_type": "code",
   "execution_count": 36,
   "id": "f619f3ad",
   "metadata": {},
   "outputs": [
    {
     "data": {
      "text/html": [
       "<div>\n",
       "<style scoped>\n",
       "    .dataframe tbody tr th:only-of-type {\n",
       "        vertical-align: middle;\n",
       "    }\n",
       "\n",
       "    .dataframe tbody tr th {\n",
       "        vertical-align: top;\n",
       "    }\n",
       "\n",
       "    .dataframe thead th {\n",
       "        text-align: right;\n",
       "    }\n",
       "</style>\n",
       "<table border=\"1\" class=\"dataframe\">\n",
       "  <thead>\n",
       "    <tr style=\"text-align: right;\">\n",
       "      <th></th>\n",
       "      <th>Glucose</th>\n",
       "      <th>BMI</th>\n",
       "      <th>Age</th>\n",
       "    </tr>\n",
       "  </thead>\n",
       "  <tbody>\n",
       "    <tr>\n",
       "      <th>0</th>\n",
       "      <td>148.0</td>\n",
       "      <td>33.6</td>\n",
       "      <td>50</td>\n",
       "    </tr>\n",
       "    <tr>\n",
       "      <th>1</th>\n",
       "      <td>85.0</td>\n",
       "      <td>26.6</td>\n",
       "      <td>31</td>\n",
       "    </tr>\n",
       "    <tr>\n",
       "      <th>2</th>\n",
       "      <td>183.0</td>\n",
       "      <td>23.3</td>\n",
       "      <td>32</td>\n",
       "    </tr>\n",
       "    <tr>\n",
       "      <th>3</th>\n",
       "      <td>89.0</td>\n",
       "      <td>28.1</td>\n",
       "      <td>21</td>\n",
       "    </tr>\n",
       "    <tr>\n",
       "      <th>4</th>\n",
       "      <td>137.0</td>\n",
       "      <td>43.1</td>\n",
       "      <td>33</td>\n",
       "    </tr>\n",
       "    <tr>\n",
       "      <th>...</th>\n",
       "      <td>...</td>\n",
       "      <td>...</td>\n",
       "      <td>...</td>\n",
       "    </tr>\n",
       "    <tr>\n",
       "      <th>763</th>\n",
       "      <td>101.0</td>\n",
       "      <td>32.9</td>\n",
       "      <td>63</td>\n",
       "    </tr>\n",
       "    <tr>\n",
       "      <th>764</th>\n",
       "      <td>122.0</td>\n",
       "      <td>36.8</td>\n",
       "      <td>27</td>\n",
       "    </tr>\n",
       "    <tr>\n",
       "      <th>765</th>\n",
       "      <td>121.0</td>\n",
       "      <td>26.2</td>\n",
       "      <td>30</td>\n",
       "    </tr>\n",
       "    <tr>\n",
       "      <th>766</th>\n",
       "      <td>126.0</td>\n",
       "      <td>30.1</td>\n",
       "      <td>47</td>\n",
       "    </tr>\n",
       "    <tr>\n",
       "      <th>767</th>\n",
       "      <td>93.0</td>\n",
       "      <td>30.4</td>\n",
       "      <td>23</td>\n",
       "    </tr>\n",
       "  </tbody>\n",
       "</table>\n",
       "<p>768 rows × 3 columns</p>\n",
       "</div>"
      ],
      "text/plain": [
       "     Glucose   BMI  Age\n",
       "0      148.0  33.6   50\n",
       "1       85.0  26.6   31\n",
       "2      183.0  23.3   32\n",
       "3       89.0  28.1   21\n",
       "4      137.0  43.1   33\n",
       "..       ...   ...  ...\n",
       "763    101.0  32.9   63\n",
       "764    122.0  36.8   27\n",
       "765    121.0  26.2   30\n",
       "766    126.0  30.1   47\n",
       "767     93.0  30.4   23\n",
       "\n",
       "[768 rows x 3 columns]"
      ]
     },
     "execution_count": 36,
     "metadata": {},
     "output_type": "execute_result"
    }
   ],
   "source": [
    "X"
   ]
  },
  {
   "cell_type": "code",
   "execution_count": 33,
   "id": "bae5c377",
   "metadata": {},
   "outputs": [],
   "source": [
    "import pickle\n",
    "\n",
    "pickle.dump(finalKNN, open('KNN Model.pkl', 'wb'))"
   ]
  },
  {
   "cell_type": "code",
   "execution_count": 35,
   "id": "4219acc0",
   "metadata": {},
   "outputs": [],
   "source": [
    "loadedModel = pickle.load(open('KNN Model.pkl', 'rb'))"
   ]
  },
  {
   "cell_type": "code",
   "execution_count": 37,
   "id": "622aa5aa",
   "metadata": {},
   "outputs": [
    {
     "data": {
      "text/plain": [
       "array([1])"
      ]
     },
     "execution_count": 37,
     "metadata": {},
     "output_type": "execute_result"
    }
   ],
   "source": [
    "loadedModel.predict([[150, 30, 50]])"
   ]
  },
  {
   "cell_type": "code",
   "execution_count": 38,
   "id": "6d51daab",
   "metadata": {},
   "outputs": [
    {
     "data": {
      "text/plain": [
       "array([[0.10526316, 0.89473684]])"
      ]
     },
     "execution_count": 38,
     "metadata": {},
     "output_type": "execute_result"
    }
   ],
   "source": [
    "loadedModel.predict_proba([[150, 30, 50]])"
   ]
  },
  {
   "cell_type": "code",
   "execution_count": null,
   "id": "fafe1e7f",
   "metadata": {},
   "outputs": [],
   "source": []
  }
 ],
 "metadata": {
  "kernelspec": {
   "display_name": "Python 3",
   "language": "python",
   "name": "python3"
  },
  "language_info": {
   "codemirror_mode": {
    "name": "ipython",
    "version": 3
   },
   "file_extension": ".py",
   "mimetype": "text/x-python",
   "name": "python",
   "nbconvert_exporter": "python",
   "pygments_lexer": "ipython3",
   "version": "3.8.8"
  }
 },
 "nbformat": 4,
 "nbformat_minor": 5
}
